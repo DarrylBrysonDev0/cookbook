{
 "cells": [
  {
   "cell_type": "markdown",
   "metadata": {},
   "source": [
    "# Auto Generate Lab measurement Dataset\n",
    "---------------------------\n",
    "\n",
    "A typical data source found in most industrial work places are lab measurements. This type of data usually has a well defined structure and is a mixture of categorical and numeric. Scale of measurements and the file format can vary greatly. This article covers how to generate a simple dataset that can be customized to simulate a wide range of use cases.  "
   ]
  },
  {
   "cell_type": "markdown",
   "metadata": {},
   "source": [
    "## Contents\n",
    "1. data structure\n",
    "1. Packages used\n",
    "    - Faker\n",
    "    - xml.etree.ElementTree\n",
    "    - Pandas\n",
    "2. Generate dataset\n",
    "3. Convert to Pandas DataFrame\n",
    "4. Save File\n",
    "    - csv\n",
    "    - xml\n",
    "    - parquet"
   ]
  },
  {
   "cell_type": "markdown",
   "metadata": {},
   "source": [
    "## Sample Data Structure"
   ]
  },
  {
   "cell_type": "markdown",
   "metadata": {},
   "source": [
    "| Field          | DataType    | Min  | Max  |\n",
    "|----------------|-------------|------|------|\n",
    "| machine_id     | string      |      |      |\n",
    "| test_id        | uuid        |      |      |\n",
    "| technician     | string      |      |      |\n",
    "| test_routine   | categorical |      |      |\n",
    "| batched        | categorical |      |      |\n",
    "| loc_1          | dictionary  |      |      |\n",
    "| loc_1_x_offset | decimal     | -15  | 15   |\n",
    "| loc_1_y_offset | decimal     | -1   | 1    |\n",
    "| loc_1_z_offset | int         | 2500 | 5000 |\n",
    "| loc_2          | dictionary  |      |      |\n",
    "| loc_2_x_offset | decimal     | -15  | 15   |\n",
    "| loc_2_y_offset | decimal     | -1   | 1    |\n",
    "| loc_2_z_offset | int         | 2500 | 5000 |"
   ]
  },
  {
   "cell_type": "markdown",
   "metadata": {},
   "source": [
    "## Packages Used\n",
    "\n",
    "**Faker:** Is a python package for creating, as the name implies, fake data. This libriray not only generates random numbers and strings but more complex elements like addresses, and names."
   ]
  },
  {
   "cell_type": "code",
   "execution_count": 141,
   "metadata": {},
   "outputs": [],
   "source": [
    "from faker import Faker\n",
    "fake = Faker()\n",
    "Faker.seed(0)"
   ]
  },
  {
   "cell_type": "markdown",
   "metadata": {},
   "source": [
    "**xml.etree.ElementTree:** Is a base library of Python that is a simple and efficient way of querying, parsing, and creating XML data."
   ]
  },
  {
   "cell_type": "code",
   "execution_count": 142,
   "metadata": {},
   "outputs": [],
   "source": [
    "import xml.etree.ElementTree as ET\n",
    "from xml.dom import minidom"
   ]
  },
  {
   "cell_type": "markdown",
   "metadata": {},
   "source": [
    "**Pandas:** is the goto library for working with table-like data."
   ]
  },
  {
   "cell_type": "code",
   "execution_count": 143,
   "metadata": {},
   "outputs": [],
   "source": [
    "import pandas as pd"
   ]
  },
  {
   "cell_type": "code",
   "execution_count": 144,
   "metadata": {},
   "outputs": [],
   "source": [
    "# base imports\n",
    "import uuid\n",
    "import os\n",
    "\n"
   ]
  },
  {
   "cell_type": "markdown",
   "metadata": {},
   "source": [
    "## Generate Dataset\n",
    "\n",
    "The structure of the dataset is reprecented by a dictionary and uses Faker to fill in the data values. This allows for simple modifications when moving between use cases.   "
   ]
  },
  {
   "cell_type": "code",
   "execution_count": 161,
   "metadata": {},
   "outputs": [],
   "source": [
    "def generate_measurement_record():\n",
    "    base_equipment_name='Machine'\n",
    "    equipment_cnt = 25\n",
    "    n = fake.pyint(min_value=1, max_value=equipment_cnt)\n",
    "\n",
    "    measurement_record = {\n",
    "        'machine_id': '_'.join([base_equipment_name, f'{n:02}'])\n",
    "        ,'test_id':str(uuid.uuid4().hex)\n",
    "        ,'technician':fake.name()\n",
    "        ,'test_routine':fake.random_sample(elements=('a', 'b', 'c', 'd', 'e', 'f'))\n",
    "        ,'batched':fake.random_sample(elements=('Yes', 'No', 'N/A'), length=1)[0]\n",
    "        ,'loc_1':{\n",
    "            'x_offset':fake.pydecimal(left_digits=2, right_digits=2, min_value=-15, max_value=15)\n",
    "            ,'y_offset':fake.pydecimal(left_digits=1, right_digits=6, min_value=-1, max_value=1)\n",
    "            ,'z_offset':fake.pyint(min_value=2500, max_value=5000)\n",
    "        }\n",
    "        ,'loc_2':{\n",
    "            'x_offset':fake.pydecimal(left_digits=2, right_digits=2, min_value=-15, max_value=15)\n",
    "            ,'y_offset':fake.pydecimal(left_digits=1, right_digits=6, min_value=-1, max_value=1)\n",
    "            ,'z_offset':fake.pyint(min_value=2500, max_value=5000)\n",
    "        }\n",
    "    }\n",
    "    return measurement_record"
   ]
  },
  {
   "cell_type": "markdown",
   "metadata": {},
   "source": [
    "Repetedly calling this function generates new records with random data that can be collected in a list up to a desired size."
   ]
  },
  {
   "cell_type": "code",
   "execution_count": 169,
   "metadata": {},
   "outputs": [],
   "source": [
    "records_cnt = 5\n",
    "\n",
    "measurement_record = None\n",
    "measurement_list=[]\n",
    "\n",
    "for _ in range(records_cnt):\n",
    "    measurement_record = generate_measurement_record()\n",
    "    measurement_list.append(measurement_record) # List of nested dictionarie"
   ]
  },
  {
   "cell_type": "markdown",
   "metadata": {},
   "source": [
    "## Convert Dataset to XML\n",
    "\n",
    "Next we'll need a function that will handle converting the records stored as dictionaries to xml. Then apply the function to each record in the list.  "
   ]
  },
  {
   "cell_type": "code",
   "execution_count": 148,
   "metadata": {},
   "outputs": [],
   "source": [
    "import xml.etree.ElementTree as ET\n",
    "\n",
    "def dict_to_xml(d, r=None):\n",
    "    file_id = str(uuid.uuid4().hex)\n",
    "    if r is None:\n",
    "        r = ET.Element('DataFile')\n",
    "        r.set('id', file_id)\n",
    "    if isinstance(d, dict):\n",
    "        for k, v in d.items():\n",
    "            s = ET.SubElement(r, k)\n",
    "            dict_to_xml(v, s)\n",
    "    elif isinstance(d, tuple) or isinstance(d, list):\n",
    "        val = '/'.join(str(v) for v in d)\n",
    "        r.text = val\n",
    "    elif isinstance(d, str):\n",
    "        r.text = d\n",
    "    else:\n",
    "        r.text = str(d)\n",
    "    return r"
   ]
  },
  {
   "cell_type": "code",
   "execution_count": 170,
   "metadata": {},
   "outputs": [],
   "source": [
    "# Convert each record\n",
    "xml_dataset = ET.Element('DataFiles')\n",
    "for rcd in measurement_list:\n",
    "    file_id = str(uuid.uuid4().hex)\n",
    "    child = ET.SubElement(xml_dataset,'DataFile')\n",
    "    child.set('id', file_id)\n",
    "    \n",
    "    # Convert to xml\n",
    "    element= dict_to_xml(rcd,child)"
   ]
  },
  {
   "cell_type": "markdown",
   "metadata": {},
   "source": [
    "The resulting xml file can be viewed with:"
   ]
  },
  {
   "cell_type": "code",
   "execution_count": 171,
   "metadata": {},
   "outputs": [
    {
     "name": "stdout",
     "output_type": "stream",
     "text": [
      "<?xml version=\"1.0\" ?>\n",
      "<DataFiles>\n",
      "  <DataFile id=\"33c768494e484df9b954c4c7bae2ce68\">\n",
      "    <machine_id>Machine_10</machine_id>\n",
      "    <test_id>3c0c95f773bf426585a3a68642d2d41a</test_id>\n",
      "    <technician>Brett Kerr</technician>\n",
      "    <test_routine>c/f/a/b</test_routine>\n",
      "    <batched>Yes</batched>\n",
      "    <loc_1>\n",
      "      <x_offset>8.63</x_offset>\n",
      "      <y_offset>0.39661</y_offset>\n",
      "      <z_offset>3736</z_offset>\n",
      "    </loc_1>\n",
      "    <loc_2>\n",
      "      <x_offset>-4.94</x_offset>\n",
      "      <y_offset>0.964363</y_offset>\n",
      "      <z_offset>3182</z_offset>\n",
      "    </loc_2>\n",
      "  </DataFile>\n",
      "</DataFiles>\n",
      "\n"
     ]
    }
   ],
   "source": [
    "from xml.dom import minidom\n",
    "\n",
    "xml= ET.tostring(xml_dataset, encoding='unicode', method='xml')\n",
    "xml= minidom.parseString(xml)\n",
    "xml= xml.toprettyxml(indent='  ')\n",
    "\n",
    "print(xml)"
   ]
  },
  {
   "cell_type": "markdown",
   "metadata": {},
   "source": [
    "## Convert Dataset to Pandas DataFrame\n",
    "\n",
    "Pandas can directly create a DataFrame from a dictionary if the dictionary is not nested. So, the first step the convertion is to create a function to flatten the measurement dictionary structure: "
   ]
  },
  {
   "cell_type": "code",
   "execution_count": 151,
   "metadata": {},
   "outputs": [],
   "source": [
    "import collections.abc\n",
    "\n",
    "def flatten(d, parent_key='', sep='_'):\n",
    "    items = []\n",
    "    for k, v in d.items():\n",
    "        new_key = parent_key + sep + k if parent_key else k\n",
    "        if isinstance(v, collections.MutableMapping):\n",
    "            items.extend(flatten(v, new_key, sep=sep).items())\n",
    "        else:\n",
    "            items.append((new_key, v))\n",
    "    return dict(items)"
   ]
  },
  {
   "cell_type": "markdown",
   "metadata": {},
   "source": [
    "Create a new list of flattened data: "
   ]
  },
  {
   "cell_type": "code",
   "execution_count": 152,
   "metadata": {},
   "outputs": [],
   "source": [
    "measurement_flat_list= []\n",
    "\n",
    "for rcd in measurement_list:\n",
    "    measurement_flat_list.append(flatten(rcd)) # List of single depth dictionaries"
   ]
  },
  {
   "cell_type": "markdown",
   "metadata": {},
   "source": [
    "Convert to DataFrame:"
   ]
  },
  {
   "cell_type": "code",
   "execution_count": 153,
   "metadata": {},
   "outputs": [
    {
     "data": {
      "text/html": [
       "<div>\n",
       "<style scoped>\n",
       "    .dataframe tbody tr th:only-of-type {\n",
       "        vertical-align: middle;\n",
       "    }\n",
       "\n",
       "    .dataframe tbody tr th {\n",
       "        vertical-align: top;\n",
       "    }\n",
       "\n",
       "    .dataframe thead th {\n",
       "        text-align: right;\n",
       "    }\n",
       "</style>\n",
       "<table border=\"1\" class=\"dataframe\">\n",
       "  <thead>\n",
       "    <tr style=\"text-align: right;\">\n",
       "      <th></th>\n",
       "      <th>machine_id</th>\n",
       "      <th>test_id</th>\n",
       "      <th>technician</th>\n",
       "      <th>test_routine</th>\n",
       "      <th>batched</th>\n",
       "      <th>loc_1_x_offset</th>\n",
       "      <th>loc_1_y_offset</th>\n",
       "      <th>loc_1_z_offset</th>\n",
       "      <th>loc_2_x_offset</th>\n",
       "      <th>loc_2_y_offset</th>\n",
       "      <th>loc_2_z_offset</th>\n",
       "    </tr>\n",
       "  </thead>\n",
       "  <tbody>\n",
       "    <tr>\n",
       "      <th>0</th>\n",
       "      <td>Machine_02</td>\n",
       "      <td>ffbb9f35d5484deebab0598926194203</td>\n",
       "      <td>Stephanie Leblanc</td>\n",
       "      <td>[f, d, c, e, a]</td>\n",
       "      <td>Yes</td>\n",
       "      <td>14.86</td>\n",
       "      <td>0.607854</td>\n",
       "      <td>3627</td>\n",
       "      <td>0.63</td>\n",
       "      <td>0.86374</td>\n",
       "      <td>3828</td>\n",
       "    </tr>\n",
       "    <tr>\n",
       "      <th>1</th>\n",
       "      <td>Machine_20</td>\n",
       "      <td>fb824a88e0f145169b411a2180c5671c</td>\n",
       "      <td>Kevin Rogers</td>\n",
       "      <td>[b, a]</td>\n",
       "      <td>N/A</td>\n",
       "      <td>-6.14</td>\n",
       "      <td>0.390133</td>\n",
       "      <td>3198</td>\n",
       "      <td>-4.54</td>\n",
       "      <td>0.105494</td>\n",
       "      <td>3099</td>\n",
       "    </tr>\n",
       "    <tr>\n",
       "      <th>2</th>\n",
       "      <td>Machine_23</td>\n",
       "      <td>25d73f925ba14df5a09a11ef8fb3a68d</td>\n",
       "      <td>Robert Walters</td>\n",
       "      <td>[e, a, f, d, c]</td>\n",
       "      <td>N/A</td>\n",
       "      <td>12.73</td>\n",
       "      <td>0.410212</td>\n",
       "      <td>2874</td>\n",
       "      <td>-3.14</td>\n",
       "      <td>0.634917</td>\n",
       "      <td>2588</td>\n",
       "    </tr>\n",
       "    <tr>\n",
       "      <th>3</th>\n",
       "      <td>Machine_07</td>\n",
       "      <td>a3fb30a0fe8f4000aa72eb182230d236</td>\n",
       "      <td>Cathy Martinez</td>\n",
       "      <td>[f, a]</td>\n",
       "      <td>N/A</td>\n",
       "      <td>-14.69</td>\n",
       "      <td>0.650746</td>\n",
       "      <td>2915</td>\n",
       "      <td>12.33</td>\n",
       "      <td>0.231556</td>\n",
       "      <td>2794</td>\n",
       "    </tr>\n",
       "    <tr>\n",
       "      <th>4</th>\n",
       "      <td>Machine_21</td>\n",
       "      <td>02a27172e035464fbdf680c476312b03</td>\n",
       "      <td>Jeffrey Brown</td>\n",
       "      <td>[a, e, f, c]</td>\n",
       "      <td>No</td>\n",
       "      <td>-8.33</td>\n",
       "      <td>0.94833</td>\n",
       "      <td>4426</td>\n",
       "      <td>12.72</td>\n",
       "      <td>0.731588</td>\n",
       "      <td>3333</td>\n",
       "    </tr>\n",
       "  </tbody>\n",
       "</table>\n",
       "</div>"
      ],
      "text/plain": [
       "   machine_id                           test_id         technician  \\\n",
       "0  Machine_02  ffbb9f35d5484deebab0598926194203  Stephanie Leblanc   \n",
       "1  Machine_20  fb824a88e0f145169b411a2180c5671c       Kevin Rogers   \n",
       "2  Machine_23  25d73f925ba14df5a09a11ef8fb3a68d     Robert Walters   \n",
       "3  Machine_07  a3fb30a0fe8f4000aa72eb182230d236     Cathy Martinez   \n",
       "4  Machine_21  02a27172e035464fbdf680c476312b03      Jeffrey Brown   \n",
       "\n",
       "      test_routine batched loc_1_x_offset loc_1_y_offset  loc_1_z_offset  \\\n",
       "0  [f, d, c, e, a]     Yes          14.86       0.607854            3627   \n",
       "1           [b, a]     N/A          -6.14       0.390133            3198   \n",
       "2  [e, a, f, d, c]     N/A          12.73       0.410212            2874   \n",
       "3           [f, a]     N/A         -14.69       0.650746            2915   \n",
       "4     [a, e, f, c]      No          -8.33        0.94833            4426   \n",
       "\n",
       "  loc_2_x_offset loc_2_y_offset  loc_2_z_offset  \n",
       "0           0.63        0.86374            3828  \n",
       "1          -4.54       0.105494            3099  \n",
       "2          -3.14       0.634917            2588  \n",
       "3          12.33       0.231556            2794  \n",
       "4          12.72       0.731588            3333  "
      ]
     },
     "execution_count": 153,
     "metadata": {},
     "output_type": "execute_result"
    }
   ],
   "source": [
    "measurement_df = pd.DataFrame(measurement_flat_list)\n",
    "measurement_df.head()"
   ]
  },
  {
   "cell_type": "markdown",
   "metadata": {},
   "source": [
    "## Save Dataset Files\n",
    "- XML\n",
    "- CSV\n",
    "- Parquet"
   ]
  },
  {
   "cell_type": "code",
   "execution_count": 157,
   "metadata": {},
   "outputs": [],
   "source": [
    "# xml\n",
    "destPath = 'sample_lab_measurement.xml'\n",
    "# Convert to string\n",
    "xml_str= ET.tostring(xml_dataset, encoding='unicode', method='xml')\n",
    "\n",
    "# Pretty print string \n",
    "xml_str= minidom.parseString(xml_str)\n",
    "xml_str= xml_str.toprettyxml(indent='  ')\n",
    "\n",
    "# Write file\n",
    "with open(destPath, 'w') as f:  # Write in file as utf-8\n",
    "    f.write(xml_str)"
   ]
  },
  {
   "cell_type": "code",
   "execution_count": 158,
   "metadata": {},
   "outputs": [],
   "source": [
    "# csv\n",
    "destPath = 'sample_lab_measurement.csv'\n",
    "measurement_df.to_csv(destPath, index = False, header=True)"
   ]
  },
  {
   "cell_type": "code",
   "execution_count": 160,
   "metadata": {},
   "outputs": [],
   "source": [
    "# parquet\n",
    "destPath = 'sample_lab_measurement.parquet'\n",
    "measurement_df.to_parquet(destPath, index = False)"
   ]
  }
 ],
 "metadata": {
  "kernelspec": {
   "display_name": "Python 3",
   "language": "python",
   "name": "python3"
  },
  "language_info": {
   "codemirror_mode": {
    "name": "ipython",
    "version": 3
   },
   "file_extension": ".py",
   "mimetype": "text/x-python",
   "name": "python",
   "nbconvert_exporter": "python",
   "pygments_lexer": "ipython3",
   "version": "3.8.6"
  }
 },
 "nbformat": 4,
 "nbformat_minor": 4
}
